{
 "cells": [
  {
   "cell_type": "markdown",
   "id": "6832de44-a755-49ad-b1da-f1eb678724d8",
   "metadata": {
    "jp-MarkdownHeadingCollapsed": true
   },
   "source": [
    "# Introduction\n"
   ]
  },
  {
   "cell_type": "markdown",
   "id": "9633db96-bf9e-46fd-b126-906ff6d7128c",
   "metadata": {},
   "source": [
    "**NumPy provides a foundation for handling multi-dimensional arrays and matrices, enabling efficient mathematical operations.**\n"
   ]
  },
  {
   "cell_type": "markdown",
   "id": "8d8f0249-5928-4502-a17e-d11a26d4056b",
   "metadata": {},
   "source": [
    "#### What is NumPy?\n",
    "\n",
    "- NumPy stands for Numerical Python.\n",
    "- It is a Python library used for working with arrays and It was created in 2005 by Travis Oliphant.\n",
    "- It is an open source project and you can use it freely.\n",
    "- It also has functions for working in domain of linear algebra, fourier transform, and matrices."
   ]
  },
  {
   "cell_type": "markdown",
   "id": "6e783029-b609-47ab-bf43-e6986ac84d46",
   "metadata": {},
   "source": [
    "#### Why NumPy is important:\n",
    "\n",
    "- Speed and Efficiency: NumPy's arrays are faster and use less memory than Python lists.\n",
    "- Broad Functionality: It offers tools for mathematical, logical, and statistical operations.\n",
    "- Seamless Integration: Works well with libraries like Pandas, Matplotlib, and SciPy.\n",
    "- Key Concept: Arrays\n",
    "\n",
    "> n array in NumPy is a grid of values, all of the same type, indexed by a tuple of non-negative integers."
   ]
  },
  {
   "cell_type": "markdown",
   "id": "0fc902cc-507c-4421-980f-31ba5bc8d5b4",
   "metadata": {},
   "source": [
    "#### Why Use NumPy?\n",
    "\n",
    "- In Python we have lists that serve the purpose of arrays, but they are slow to process.\n",
    "- NumPy aims to provide an array object that is up to 50x faster than traditional Python lists.\n",
    "- The array object in NumPy is called ndarray, it provides a lot of supporting functions that make working with ndarray very easy.\n",
    "- Arrays are very frequently used in data science, where speed and resources are very important.-\n",
    "\n",
    "> Data Science: is a branch of computer science where we study how to store, use and analyze data for deriving information from it.\n"
   ]
  },
  {
   "cell_type": "markdown",
   "id": "a3631e49-0f6f-4bac-8d6b-58a4324c851c",
   "metadata": {},
   "source": [
    "#### Why is NumPy Faster Than Lists?\n",
    "\n",
    "- NumPy arrays are stored at one continuous place in memory unlike lists, so processes can access and manipulate them very efficiently.\n",
    "\n",
    "- This behavior is called locality of reference in computer science.\n",
    "\n",
    "- This is the main reason why NumPy is faster than lists. Also it is optimized to work with latest CPU architectures."
   ]
  },
  {
   "cell_type": "markdown",
   "id": "adcd402e-9dbc-4eaa-83b2-7e0c90130b3c",
   "metadata": {},
   "source": [
    "#### Which Language is NumPy written in?\n",
    "\n",
    "- NumPy is a Python library and is written partially in Python, but most of the parts that require fast computation are written in C or C++."
   ]
  },
  {
   "cell_type": "markdown",
   "id": "4bef7b79-c2c5-48b7-ad3c-1134d546fddc",
   "metadata": {
    "jp-MarkdownHeadingCollapsed": true
   },
   "source": [
    "# Getting Started"
   ]
  },
  {
   "cell_type": "markdown",
   "id": "ad84273b-79c2-4b17-be7b-ac5733f8848f",
   "metadata": {},
   "source": [
    "#### Installation of NumPy\n",
    "\n",
    "- If you have Python and PIP already installed on a system, then installation of NumPy is very easy.\n",
    "- Install it using this command in command terminal:\n",
    "\n",
    "> pip install numpy"
   ]
  },
  {
   "cell_type": "markdown",
   "id": "2afe5a0f-9b97-4ead-be9f-f35bf91de7e6",
   "metadata": {},
   "source": [
    "#### Import NumPy\n",
    "\n",
    "- Once NumPy is installed, import it in your applications by adding the import keyword:\n",
    "\n",
    "> import numpy"
   ]
  },
  {
   "cell_type": "code",
   "execution_count": 5,
   "id": "8b22b90e-fa57-4560-8ea8-9103ce197480",
   "metadata": {},
   "outputs": [
    {
     "name": "stdout",
     "output_type": "stream",
     "text": [
      "[1 2 3 4 5]\n"
     ]
    }
   ],
   "source": [
    "import numpy\n",
    "\n",
    "arr = numpy.array([1, 2, 3, 4, 5])\n",
    "\n",
    "print(arr)"
   ]
  },
  {
   "cell_type": "markdown",
   "id": "ebff5cfc-ce4b-4692-ba78-ca6f4f2b6223",
   "metadata": {},
   "source": [
    "#### NumPy as np\n",
    "\n",
    "- NumPy is usually imported under the np alias.\n",
    "\n",
    "- alias: In Python alias are an alternate name for referring to the same thing.\n",
    "\n",
    "- Create an alias with the as keyword while importing:\n",
    "\n",
    "> import numpy as np\n",
    "\n",
    "- Now the NumPy package can be referred to as np instead of numpy."
   ]
  },
  {
   "cell_type": "code",
   "execution_count": 3,
   "id": "af86d9c4-41a5-4926-9c65-bbcad04c244c",
   "metadata": {},
   "outputs": [
    {
     "name": "stdout",
     "output_type": "stream",
     "text": [
      "[1 2 3 4 5]\n"
     ]
    }
   ],
   "source": [
    "import numpy as np\n",
    "\n",
    "arr = np.array([1, 2, 3, 4, 5])\n",
    "\n",
    "print(arr)"
   ]
  },
  {
   "cell_type": "markdown",
   "id": "22fc1fe9-1530-4847-80ad-9d6f9b75d864",
   "metadata": {},
   "source": [
    "#### Checking NumPy Version\n",
    "\n",
    "- The version string is stored under __version__ attribute."
   ]
  },
  {
   "cell_type": "code",
   "execution_count": 4,
   "id": "c8c6a22d-70b5-4d1f-91ee-915c3e78ac0b",
   "metadata": {},
   "outputs": [
    {
     "name": "stdout",
     "output_type": "stream",
     "text": [
      "2.1.3\n"
     ]
    }
   ],
   "source": [
    "print(np.__version__)"
   ]
  },
  {
   "cell_type": "markdown",
   "id": "79e0d9d3-b8c9-45bd-8acc-cbd78d8ddeb4",
   "metadata": {
    "jp-MarkdownHeadingCollapsed": true
   },
   "source": [
    "# Creating Arrays"
   ]
  },
  {
   "cell_type": "markdown",
   "id": "dc0121d1-b98d-4121-8f3b-4f01a344ac66",
   "metadata": {},
   "source": [
    "#### Create a NumPy ndarray Object\n",
    "\n",
    "- NumPy is used to work with arrays. The array object in NumPy is called ndarray.\n",
    "- ndarray is nothing but a array object in numpy.\n",
    "- We can create a NumPy ndarray object by using the array() function."
   ]
  },
  {
   "cell_type": "code",
   "execution_count": 7,
   "id": "707f0682-5427-4085-84f4-8c5c91add337",
   "metadata": {},
   "outputs": [
    {
     "name": "stdout",
     "output_type": "stream",
     "text": [
      "[1 2 3 4 5]\n",
      "<class 'numpy.ndarray'>\n"
     ]
    }
   ],
   "source": [
    "arr = np.array([1, 2, 3, 4, 5])\n",
    "\n",
    "print(arr)\n",
    "\n",
    "print(type(arr))"
   ]
  },
  {
   "cell_type": "markdown",
   "id": "467022dc-23b1-4944-8495-0f77e996cd7c",
   "metadata": {},
   "source": [
    "> We already imported **numpy** library as **np** don't need to import everytime.\n",
    "\n",
    "> type(): This built-in Python function tells us the type of the object passed to it. Like in above code it shows that arr is numpy.ndarray type.\n",
    "\n",
    "> To create an ndarray, we can pass a list, tuple or any array-like object into the array() method, and it will be converted into an ndarray:"
   ]
  },
  {
   "cell_type": "code",
   "execution_count": 8,
   "id": "a92b5b04-dda0-478b-8a32-8c54b7094d56",
   "metadata": {},
   "outputs": [
    {
     "name": "stdout",
     "output_type": "stream",
     "text": [
      "[1 2 3 4 5]\n"
     ]
    }
   ],
   "source": [
    "#Use a tuple to create a NumPy array:\n",
    "\n",
    "arr = np.array((1, 2, 3, 4, 5))\n",
    "\n",
    "print(arr)"
   ]
  },
  {
   "cell_type": "code",
   "execution_count": 9,
   "id": "eb6d8d78-d83e-4e39-8537-9aa59be0d46c",
   "metadata": {},
   "outputs": [
    {
     "name": "stdout",
     "output_type": "stream",
     "text": [
      "[1 2 3 4 5]\n"
     ]
    }
   ],
   "source": [
    "#Use a list to create a NumPy array:\n",
    "arr = np.array([1, 2, 3, 4, 5])\n",
    "\n",
    "print(arr)"
   ]
  },
  {
   "cell_type": "code",
   "execution_count": 10,
   "id": "98c34936-c32e-450d-8b81-c9374f871239",
   "metadata": {},
   "outputs": [
    {
     "name": "stdout",
     "output_type": "stream",
     "text": [
      "{1: 44, 2: 32, 3: 34, 4: 33, 5: 33}\n"
     ]
    }
   ],
   "source": [
    "#with dict how?\n",
    "arr = np.array({1:44, 2:32, 3:34, 4:33, 5:33})\n",
    "\n",
    "print(arr)"
   ]
  },
  {
   "cell_type": "markdown",
   "id": "6be65735-c011-41c7-b244-4c666aa56867",
   "metadata": {},
   "source": [
    "### Dimensions in Arrays\n",
    "\n",
    "- A dimension in arrays is one level of array depth (nested arrays).\n",
    "\n",
    "- nested array: are arrays that have arrays as their elements.m"
   ]
  },
  {
   "cell_type": "markdown",
   "id": "6e74daec-e3ad-48bb-9586-2ae1c6164657",
   "metadata": {},
   "source": [
    "#### 0-D Arrays\n",
    "\n",
    "- 0-D arrays, or Scalars, are the elements in an array. Each value in an array is a 0-D array."
   ]
  },
  {
   "cell_type": "code",
   "execution_count": 12,
   "id": "2191d62f-8f05-4fc0-812f-bd1c9455950c",
   "metadata": {},
   "outputs": [
    {
     "name": "stdout",
     "output_type": "stream",
     "text": [
      "42\n"
     ]
    }
   ],
   "source": [
    "#Create a 0-D array with value \n",
    "\n",
    "arr = np.array(42)\n",
    "\n",
    "print(arr)"
   ]
  },
  {
   "cell_type": "markdown",
   "id": "67b1a54f-8916-4f71-b01d-b4cafe127db7",
   "metadata": {},
   "source": [
    "#### 1-D Arrays\n",
    "\n",
    "- An array that has 0-D arrays as its elements is called uni-dimensional or 1-D array.\n",
    "\n",
    "- These are the most common and basic arrays."
   ]
  },
  {
   "cell_type": "code",
   "execution_count": 13,
   "id": "8fea3976-76cf-423b-af5f-3c45fb7288bf",
   "metadata": {},
   "outputs": [
    {
     "name": "stdout",
     "output_type": "stream",
     "text": [
      "(4,)\n",
      "[1 2 3 4]\n"
     ]
    }
   ],
   "source": [
    "#Create a 1-D array containing the values 1,2,3,4,5:\n",
    "\n",
    "arr = np.array([1, 2, 3, 4])\n",
    "\n",
    "print(arr.shape)\n",
    "print(arr)"
   ]
  },
  {
   "cell_type": "markdown",
   "id": "0fc044d1-563f-450c-a8cd-47b4d73fd44a",
   "metadata": {},
   "source": [
    "#### 2-D Arrays\n",
    "\n",
    "- An array that has 1-D arrays as its elements is called a 2-D array.\n",
    "\n",
    "- These are often used to represent matrix or 2nd order tensors."
   ]
  },
  {
   "cell_type": "markdown",
   "id": "97bc6eb9-60b4-4f2d-a906-4201782b51c7",
   "metadata": {},
   "source": [
    "> NumPy has a whole sub module dedicated towards matrix operations called numpy.mat"
   ]
  },
  {
   "cell_type": "code",
   "execution_count": 14,
   "id": "99d717c0-406a-4848-b022-da49d02ff926",
   "metadata": {},
   "outputs": [
    {
     "name": "stdout",
     "output_type": "stream",
     "text": [
      "Shape of 3D arrar(row,column,no. of element): (3, 4)\n",
      "\n",
      "[[1 2 3 6]\n",
      " [4 5 8 6]\n",
      " [1 2 3 6]]\n"
     ]
    }
   ],
   "source": [
    "#Create a 2-D array containing two arrays with the values 1,2,3 and 4,5,6:\n",
    "\n",
    "arr = np.array([[1, 2, 3,6], [4, 5, 8, 6],[1, 2, 3,6]])\n",
    "\n",
    "print(\"Shape of 3D arrar(row,column,no. of element):\",arr.shape)\n",
    "print()\n",
    "\n",
    "print(arr)"
   ]
  },
  {
   "cell_type": "markdown",
   "id": "c024bbcd-fe31-43ea-8359-4f6e5db2a1a7",
   "metadata": {},
   "source": [
    "#### 3-D arrays\n",
    "\n",
    "- An array that has 2-D arrays (matrices) as its elements is called 3-D array.\n",
    "\n",
    "- These are often used to represent a 3rd order tensor."
   ]
  },
  {
   "cell_type": "code",
   "execution_count": 15,
   "id": "0d15b505-7c6d-4a57-a77a-80d7b706e364",
   "metadata": {},
   "outputs": [
    {
     "name": "stdout",
     "output_type": "stream",
     "text": [
      "Shape of 3D arrar(row,column,no. of element): (2, 3, 3)\n",
      "\n",
      "[[[1 2 3]\n",
      "  [4 5 6]\n",
      "  [9 8 7]]\n",
      "\n",
      " [[1 2 3]\n",
      "  [4 5 6]\n",
      "  [9 4 5]]]\n"
     ]
    }
   ],
   "source": [
    "#Create a 3-D array with two 2-D arrays, both containing two arrays with the values 1,2,3 and 4,5,6:\n",
    "\n",
    "arr = np.array([[[1, 2, 3], [4, 5, 6],[9,8,7]], \n",
    "                [[1, 2, 3], [4, 5, 6],[9,4,5]]])\n",
    "\n",
    "print(\"Shape of 3D arrar(row,column,no. of element):\",arr.shape)\n",
    "print()\n",
    "print(arr)"
   ]
  },
  {
   "cell_type": "markdown",
   "id": "451fc8eb-8186-43c2-9488-dc23ca8a3c17",
   "metadata": {},
   "source": [
    "#### Check Number of Dimensions?\n",
    "\n",
    "- NumPy Arrays provides the ndim attribute that returns an integer that tells us how many dimensions the array have."
   ]
  },
  {
   "cell_type": "code",
   "execution_count": 16,
   "id": "b88202dd-c51b-4968-a0d4-a6fd7f9fd99b",
   "metadata": {},
   "outputs": [
    {
     "name": "stdout",
     "output_type": "stream",
     "text": [
      "0\n",
      "1\n",
      "2\n",
      "3\n",
      "4\n"
     ]
    }
   ],
   "source": [
    "#Check how many dimensions the arrays have:\n",
    "\n",
    "a = np.array(42)\n",
    "\n",
    "b = np.array([1, 2, 3, 4, 5])\n",
    "\n",
    "c = np.array([[1, 2, 3], [4, 5, 6]])\n",
    "\n",
    "d = np.array([[[1, 2, 3], [4, 5, 6]], \n",
    "              [[1, 2, 3], [4, 5, 6]]\n",
    "             ])\n",
    "\n",
    "\n",
    "e = np.array([ [ [[1, 2, 3], [4, 5, 6]], [[1, 2, 3], [4, 5, 6]] ],\n",
    "               [ [[1, 2, 3], [4, 5, 6]], [[1, 2, 3], [4, 5, 6]] ]\n",
    "             ])\n",
    "\n",
    "print(a.ndim)\n",
    "print(b.ndim)\n",
    "print(c.ndim)\n",
    "print(d.ndim)\n",
    "print(e.ndim)"
   ]
  },
  {
   "cell_type": "markdown",
   "id": "ba3d59fb-3ee4-491a-bdb3-147ef78704af",
   "metadata": {},
   "source": [
    "#### Higher Dimensional Arrays\n",
    "\n",
    "- An array can have any number of dimensions.\n",
    "\n",
    "- When the array is created, you can define the number of dimensions by using the ndmin argument."
   ]
  },
  {
   "cell_type": "code",
   "execution_count": 17,
   "id": "7331a2fc-2427-459d-b74e-154d463393b8",
   "metadata": {},
   "outputs": [
    {
     "name": "stdout",
     "output_type": "stream",
     "text": [
      "[[[[[1 2 3 4]]]]]\n",
      "number of dimensions : 5\n"
     ]
    }
   ],
   "source": [
    "#Create an array with 5 dimensions and verify that it has 5 dimensions:\n",
    "\n",
    "arr = np.array([1, 2, 3, 4], ndmin=5)\n",
    "\n",
    "print(arr)\n",
    "print('number of dimensions :', arr.ndim)"
   ]
  },
  {
   "cell_type": "markdown",
   "id": "94c7cf11-9d40-4639-ad8e-7e43c0eb1766",
   "metadata": {},
   "source": [
    "> In this array the innermost dimension (5th dim) has 4 elements, the 4th dim has 1 element that is the vector, the 3rd dim has 1 element that is the matrix with the vector, the 2nd dim has 1 element that is 3D array and 1st dim has 1 element that is a 4D array."
   ]
  },
  {
   "cell_type": "code",
   "execution_count": null,
   "id": "33173080-838a-4971-b790-c2c042366989",
   "metadata": {},
   "outputs": [],
   "source": []
  }
 ],
 "metadata": {
  "kernelspec": {
   "display_name": "Python 3 (ipykernel)",
   "language": "python",
   "name": "python3"
  },
  "language_info": {
   "codemirror_mode": {
    "name": "ipython",
    "version": 3
   },
   "file_extension": ".py",
   "mimetype": "text/x-python",
   "name": "python",
   "nbconvert_exporter": "python",
   "pygments_lexer": "ipython3",
   "version": "3.12.6"
  }
 },
 "nbformat": 4,
 "nbformat_minor": 5
}
