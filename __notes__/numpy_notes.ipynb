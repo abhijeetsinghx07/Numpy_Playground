{
 "cells": [
  {
   "cell_type": "markdown",
   "id": "2bcaed6f-68d3-447e-86a8-53dde36de5ac",
   "metadata": {
    "jp-MarkdownHeadingCollapsed": true
   },
   "source": [
    "### About Numpy :\n",
    "\n",
    "> NumPy is a Python library.\n",
    "\n",
    "> NumPy is used for working with arrays.\n",
    "\n",
    "> NumPy is short for \"Numerical Python\"."
   ]
  },
  {
   "cell_type": "markdown",
   "id": "62f7ef76-715b-4da7-9eac-e2895ac0a50a",
   "metadata": {
    "jp-MarkdownHeadingCollapsed": true
   },
   "source": [
    "# NumPy Introduction\n"
   ]
  },
  {
   "cell_type": "markdown",
   "id": "492302b6-060c-40d2-83cd-918fff74a03c",
   "metadata": {
    "jp-MarkdownHeadingCollapsed": true
   },
   "source": [
    "#### What is NumPy?\n",
    "\n",
    "- NumPy is a Python library used for working with arrays.\n",
    "\n",
    "- It also has functions for working in domain of linear algebra, fourier transform, and matrices.\n",
    "\n",
    "- NumPy was created in 2005 by Travis Oliphant. It is an open source project and you can use it freely.\n",
    "\n",
    "- NumPy stands for Numerical Python."
   ]
  },
  {
   "cell_type": "markdown",
   "id": "b454a972-6fed-43df-adee-854f5f2250c2",
   "metadata": {},
   "source": [
    "#### Why Use NumPy?\n",
    "\n"
   ]
  },
  {
   "cell_type": "markdown",
   "id": "15d81481-c0c4-49aa-a48b-3575c0052982",
   "metadata": {},
   "source": [
    "- In Python we have lists that serve the purpose of arrays, but they are slow to process.\n",
    "\n",
    "- NumPy aims to provide an array object that is up to 50x faster than traditional Python lists.\n",
    "\n",
    "- The array object in NumPy is called ndarray, it provides a lot of supporting functions that make working with ndarray very easy.\n",
    "\n",
    "- Arrays are very frequently used in data science, where speed and resources are very important.\n",
    "\n",
    "> Data Science: is a branch of computer science where we study how to store, use and analyze data for deriving information from it."
   ]
  },
  {
   "cell_type": "markdown",
   "id": "f190dd9d-255a-4091-a8a5-a290a606369f",
   "metadata": {
    "jp-MarkdownHeadingCollapsed": true
   },
   "source": [
    "#### Why is NumPy Faster Than Lists?\n",
    "\n",
    "- NumPy arrays are stored at one continuous place in memory unlike lists, so processes can access and manipulate them very efficiently.\n",
    "\n",
    "- This behavior is called locality of reference in computer science.\n",
    "\n",
    "- This is the main reason why NumPy is faster than lists. Also it is optimized to work with latest CPU architectures."
   ]
  },
  {
   "cell_type": "markdown",
   "id": "786788c8-7c55-49a6-882e-4b7761405330",
   "metadata": {},
   "source": [
    "#### Which Language is NumPy written in?\n",
    "\n",
    "- NumPy is a Python library and is written partially in Python, but most of the parts that require fast computation are written in C or C++."
   ]
  },
  {
   "cell_type": "markdown",
   "id": "fcad9cdb-06a0-4f67-bc10-1832fbd3a0bb",
   "metadata": {
    "jp-MarkdownHeadingCollapsed": true
   },
   "source": [
    "# NumPy Getting Started\n"
   ]
  },
  {
   "cell_type": "markdown",
   "id": "33e215b9-5e0b-444c-a91c-9860ff6b02a1",
   "metadata": {},
   "source": [
    "#### Installation of NumPy\n",
    "\n",
    "- If you have Python and PIP already installed on a system, then installation of NumPy is very easy.\n",
    "\n",
    "- Install it using this command in command terminal:\n",
    "\n",
    "> pip install numpy"
   ]
  },
  {
   "cell_type": "markdown",
   "id": "4a392de6-7c60-4a82-96b4-78a7983af856",
   "metadata": {},
   "source": [
    "#### Import NumPy\n",
    "\n",
    "- Once NumPy is installed, import it in your applications by adding the import keyword:\n",
    "\n",
    "> import numpy"
   ]
  },
  {
   "cell_type": "code",
   "execution_count": 2,
   "id": "6a338ee9-dd4c-4e83-8954-4de4d0d8ce31",
   "metadata": {},
   "outputs": [
    {
     "name": "stdout",
     "output_type": "stream",
     "text": [
      "[1 2 3 4 5]\n"
     ]
    }
   ],
   "source": [
    "import numpy\n",
    "\n",
    "arr = numpy.array([1, 2, 3, 4, 5])\n",
    "\n",
    "print(arr)"
   ]
  },
  {
   "cell_type": "markdown",
   "id": "0c1282f3-aa97-4a64-a430-69601a34007b",
   "metadata": {},
   "source": [
    "#### NumPy as np\n",
    "\n",
    "- NumPy is usually imported under the np alias.\n",
    "\n",
    "- alias: In Python alias are an alternate name for referring to the same thing.\n",
    "\n",
    "- Create an alias with the as keyword while importing:\n",
    "\n",
    "> import numpy as np\n",
    "\n",
    "- Now the NumPy package can be referred to as np instead of numpy."
   ]
  },
  {
   "cell_type": "code",
   "execution_count": 3,
   "id": "f89a7d05-16e4-47a0-9045-7ce796a1ee73",
   "metadata": {},
   "outputs": [
    {
     "name": "stdout",
     "output_type": "stream",
     "text": [
      "[1 2 3 4 5]\n"
     ]
    }
   ],
   "source": [
    "import numpy as np\n",
    "\n",
    "arr = np.array([1, 2, 3, 4, 5])\n",
    "\n",
    "print(arr)"
   ]
  },
  {
   "cell_type": "markdown",
   "id": "59a61e96-b0df-4838-91de-cf1340e114b1",
   "metadata": {},
   "source": [
    "#### Checking NumPy Version\n",
    "\n",
    "- The version string is stored under __version__ attribute."
   ]
  },
  {
   "cell_type": "code",
   "execution_count": 6,
   "id": "75ea92f6-d415-4a21-ab35-467f266abce4",
   "metadata": {},
   "outputs": [
    {
     "name": "stdout",
     "output_type": "stream",
     "text": [
      "2.1.3\n"
     ]
    }
   ],
   "source": [
    "print(np.__version__)"
   ]
  },
  {
   "cell_type": "markdown",
   "id": "545b1138-0a9e-4d14-9d54-278f7ce5235a",
   "metadata": {
    "jp-MarkdownHeadingCollapsed": true
   },
   "source": [
    "# NumPy Creating Arrays\n"
   ]
  },
  {
   "cell_type": "markdown",
   "id": "8dd5bf9f-cac7-4ead-8736-297d379c8a63",
   "metadata": {},
   "source": [
    "#### Create a NumPy ndarray Object\n",
    "\n",
    "- NumPy is used to work with arrays. The array object in NumPy is called ndarray.\n",
    "- We can create a NumPy ndarray object by using the array() function."
   ]
  },
  {
   "cell_type": "code",
   "execution_count": 8,
   "id": "0fe021d0-9ca2-4360-8bc4-49d6c27b6cd0",
   "metadata": {},
   "outputs": [
    {
     "name": "stdout",
     "output_type": "stream",
     "text": [
      "[1 2 3 4 5]\n",
      "<class 'numpy.ndarray'>\n"
     ]
    }
   ],
   "source": [
    "arr = np.array([1, 2, 3, 4, 5])\n",
    "\n",
    "print(arr)\n",
    "\n",
    "print(type(arr))"
   ]
  },
  {
   "cell_type": "markdown",
   "id": "a0b2944f-b202-4884-9baf-41179e74a5d1",
   "metadata": {},
   "source": [
    "> We already imported **numpy** library as **np** don't need to import everytime."
   ]
  },
  {
   "cell_type": "markdown",
   "id": "59e5b3e0-907e-4740-9cec-5e6b8c6de038",
   "metadata": {},
   "source": [
    "> type(): This built-in Python function tells us the type of the object passed to it. Like in above code it shows that arr is numpy.ndarray type."
   ]
  },
  {
   "cell_type": "markdown",
   "id": "4cc7ef12-f043-435d-8262-fc6c69b653fa",
   "metadata": {},
   "source": [
    "> To create an ndarray, we can pass a list, tuple or any array-like object into the array() method, and it will be converted into an ndarray:"
   ]
  },
  {
   "cell_type": "code",
   "execution_count": 9,
   "id": "c653d96b-8ad0-446a-971b-9651958d3944",
   "metadata": {},
   "outputs": [
    {
     "name": "stdout",
     "output_type": "stream",
     "text": [
      "[1 2 3 4 5]\n"
     ]
    }
   ],
   "source": [
    "#Use a tuple to create a NumPy array:\n",
    "\n",
    "arr = np.array((1, 2, 3, 4, 5))\n",
    "\n",
    "print(arr)"
   ]
  },
  {
   "cell_type": "code",
   "execution_count": 10,
   "id": "c046fa9e-831f-4e61-a2d1-f821f4f1dc29",
   "metadata": {},
   "outputs": [
    {
     "name": "stdout",
     "output_type": "stream",
     "text": [
      "[1 2 3 4 5]\n"
     ]
    }
   ],
   "source": [
    "#Use a list to create a NumPy array:\n",
    "arr = np.array([1, 2, 3, 4, 5])\n",
    "\n",
    "print(arr)"
   ]
  },
  {
   "cell_type": "markdown",
   "id": "46befa4d-4649-4da4-992b-8493c0109fdb",
   "metadata": {},
   "source": [
    "### Dimensions in Arrays\n",
    "\n",
    "- A dimension in arrays is one level of array depth (nested arrays).\n",
    "\n",
    "- nested array: are arrays that have arrays as their elements."
   ]
  },
  {
   "cell_type": "markdown",
   "id": "bb6f891e-30af-4c4f-9507-3c0da39f38e6",
   "metadata": {},
   "source": [
    "#### 0-D Arrays\n",
    "\n",
    "- 0-D arrays, or Scalars, are the elements in an array. Each value in an array is a 0-D array.\n",
    "\n"
   ]
  },
  {
   "cell_type": "code",
   "execution_count": 13,
   "id": "518dca21-a9ff-417b-b630-1fcb5dfc3f53",
   "metadata": {},
   "outputs": [
    {
     "name": "stdout",
     "output_type": "stream",
     "text": [
      "42\n"
     ]
    }
   ],
   "source": [
    "#Create a 0-D array with value \n",
    "\n",
    "arr = np.array(42)\n",
    "\n",
    "print(arr)"
   ]
  },
  {
   "cell_type": "markdown",
   "id": "d0ca6207-5007-4343-9345-46e90cad40dc",
   "metadata": {},
   "source": [
    "#### 1-D Arrays\n",
    "\n",
    "- An array that has 0-D arrays as its elements is called uni-dimensional or 1-D array.\n",
    "\n",
    "- These are the most common and basic arrays."
   ]
  },
  {
   "cell_type": "code",
   "execution_count": 14,
   "id": "d2be5b54-c074-46c9-aa56-d296dbed5df1",
   "metadata": {},
   "outputs": [
    {
     "name": "stdout",
     "output_type": "stream",
     "text": [
      "[1 2 3 4 5]\n"
     ]
    }
   ],
   "source": [
    "#Create a 1-D array containing the values 1,2,3,4,5:\n",
    "\n",
    "arr = np.array([1, 2, 3, 4, 5])\n",
    "\n",
    "print(arr)"
   ]
  },
  {
   "cell_type": "markdown",
   "id": "c2d8f492-f911-4dd7-900c-004d5c0ef32c",
   "metadata": {},
   "source": [
    "#### 2-D Arrays\n",
    "\n",
    "- An array that has 1-D arrays as its elements is called a 2-D array.\n",
    "\n",
    "- These are often used to represent matrix or 2nd order tensors."
   ]
  },
  {
   "cell_type": "markdown",
   "id": "f10d9382-cda2-417b-8663-64feb8be315a",
   "metadata": {},
   "source": [
    "> NumPy has a whole sub module dedicated towards matrix operations called numpy.mat"
   ]
  },
  {
   "cell_type": "code",
   "execution_count": 17,
   "id": "93e86108-40ea-4185-b358-7c11e577c039",
   "metadata": {},
   "outputs": [
    {
     "name": "stdout",
     "output_type": "stream",
     "text": [
      "[[1 2 3]\n",
      " [4 5 6]]\n"
     ]
    }
   ],
   "source": [
    "#Create a 2-D array containing two arrays with the values 1,2,3 and 4,5,6:\n",
    "\n",
    "arr = np.array([[1, 2, 3], [4, 5, 6]])\n",
    "\n",
    "print(arr)"
   ]
  },
  {
   "cell_type": "markdown",
   "id": "a9f0557e-b69d-4188-b3ed-1798086e5657",
   "metadata": {},
   "source": [
    "#### 3-D arrays\n",
    "\n",
    "- An array that has 2-D arrays (matrices) as its elements is called 3-D array.\n",
    "\n",
    "- These are often used to represent a 3rd order tensor."
   ]
  },
  {
   "cell_type": "code",
   "execution_count": 19,
   "id": "bd076f06-29da-4ae8-8d6c-755298204f69",
   "metadata": {},
   "outputs": [
    {
     "name": "stdout",
     "output_type": "stream",
     "text": [
      "[[[1 2 3]\n",
      "  [4 5 6]]\n",
      "\n",
      " [[1 2 3]\n",
      "  [4 5 6]]]\n"
     ]
    }
   ],
   "source": [
    "#Create a 3-D array with two 2-D arrays, both containing two arrays with the values 1,2,3 and 4,5,6:\n",
    "\n",
    "arr = np.array([[[1, 2, 3], [4, 5, 6]], [[1, 2, 3], [4, 5, 6]]])\n",
    "\n",
    "print(arr)"
   ]
  },
  {
   "cell_type": "markdown",
   "id": "38a03858-d817-4815-a844-c0cda38872fa",
   "metadata": {},
   "source": [
    "#### Check Number of Dimensions?\n",
    "\n",
    "- NumPy Arrays provides the ndim attribute that returns an integer that tells us how many dimensions the array have."
   ]
  },
  {
   "cell_type": "code",
   "execution_count": null,
   "id": "d5d0928c-09f2-42aa-961d-36c4966eb5a0",
   "metadata": {},
   "outputs": [],
   "source": [
    "#Check how many dimensions the arrays have:\n",
    "\n",
    "a = np.array(42)\n",
    "b = np.array([1, 2, 3, 4, 5])\n",
    "c = np.array([[1, 2, 3], [4, 5, 6]])\n",
    "d = np.array([[[1, 2, 3], [4, 5, 6]], [[1, 2, 3], [4, 5, 6]]])\n",
    "\n",
    "print(a.ndim)\n",
    "print(b.ndim)\n",
    "print(c.ndim)\n",
    "print(d.ndim)"
   ]
  },
  {
   "cell_type": "markdown",
   "id": "5ba2f061-1dbd-46f4-91ce-8f4529985bf0",
   "metadata": {},
   "source": [
    "#### Higher Dimensional Arrays\n",
    "\n",
    "- An array can have any number of dimensions.\n",
    "\n",
    "- When the array is created, you can define the number of dimensions by using the ndmin argument."
   ]
  },
  {
   "cell_type": "code",
   "execution_count": 21,
   "id": "7a3f9b87-5e97-434a-8711-c04f5a8ae8d6",
   "metadata": {},
   "outputs": [
    {
     "name": "stdout",
     "output_type": "stream",
     "text": [
      "[[[[[1 2 3 4]]]]]\n",
      "number of dimensions : 5\n"
     ]
    }
   ],
   "source": [
    "#Create an array with 5 dimensions and verify that it has 5 dimensions:\n",
    "\n",
    "arr = np.array([1, 2, 3, 4], ndmin=5)\n",
    "\n",
    "print(arr)\n",
    "print('number of dimensions :', arr.ndim)"
   ]
  },
  {
   "cell_type": "markdown",
   "id": "920ce561-fbb6-4552-9b2c-0edee67af0f1",
   "metadata": {},
   "source": [
    "> In this array the innermost dimension (5th dim) has 4 elements, the 4th dim has 1 element that is the vector, the 3rd dim has 1 element that is the matrix with the vector, the 2nd dim has 1 element that is 3D array and 1st dim has 1 element that is a 4D array."
   ]
  },
  {
   "cell_type": "markdown",
   "id": "970be1c7-7160-48eb-bf4a-ca12b4ee05f3",
   "metadata": {
    "jp-MarkdownHeadingCollapsed": true
   },
   "source": [
    "#  NumPy Array Indexing"
   ]
  },
  {
   "cell_type": "markdown",
   "id": "33b6db8e-da74-438d-9ea8-06ce7c3a712b",
   "metadata": {},
   "source": [
    "#### Access Array Elements\n",
    "\n",
    "- Array indexing is the same as accessing an array element.\n",
    "\n",
    "- You can access an array element by referring to its index number.\n",
    "\n",
    "- The indexes in NumPy arrays start with 0, meaning that the first element has index 0, and the second has index 1 etc."
   ]
  },
  {
   "cell_type": "code",
   "execution_count": 22,
   "id": "e0e8c81b-f390-476f-861b-00222e325693",
   "metadata": {},
   "outputs": [
    {
     "name": "stdout",
     "output_type": "stream",
     "text": [
      "1\n"
     ]
    }
   ],
   "source": [
    "#Get the first element from the following array:\n",
    "\n",
    "arr = np.array([1, 2, 3, 4])\n",
    "\n",
    "print(arr[0])"
   ]
  },
  {
   "cell_type": "code",
   "execution_count": 23,
   "id": "d4a3cc9d-9bb2-477e-8b38-1096df5288fa",
   "metadata": {},
   "outputs": [
    {
     "name": "stdout",
     "output_type": "stream",
     "text": [
      "2\n"
     ]
    }
   ],
   "source": [
    "#Get the second element from the following array.\n",
    "\n",
    "arr = np.array([1, 2, 3, 4])\n",
    "\n",
    "print(arr[1])"
   ]
  },
  {
   "cell_type": "code",
   "execution_count": 24,
   "id": "70e593f2-157f-4914-85fc-f8e630ee7e7c",
   "metadata": {},
   "outputs": [
    {
     "name": "stdout",
     "output_type": "stream",
     "text": [
      "7\n"
     ]
    }
   ],
   "source": [
    "#Get third and fourth elements from the following array and add them.\n",
    "\n",
    "arr = np.array([1, 2, 3, 4])\n",
    "\n",
    "print(arr[2] + arr[3])"
   ]
  },
  {
   "cell_type": "markdown",
   "id": "8f037747-52e2-427b-b541-6fda9101b35b",
   "metadata": {},
   "source": [
    "##### Access 2-D Arrays\n",
    "\n",
    "- To access elements from 2-D arrays we can use comma separated integers representing the dimension and the index of the element.\n",
    "\n",
    "- Think of 2-D arrays like a table with rows and columns, where the dimension represents the row and the index represents the column."
   ]
  },
  {
   "cell_type": "code",
   "execution_count": 25,
   "id": "d91ed63f-b765-44bd-a4a4-8de4e7caa183",
   "metadata": {},
   "outputs": [
    {
     "name": "stdout",
     "output_type": "stream",
     "text": [
      "2nd element on 1st row:  2\n"
     ]
    }
   ],
   "source": [
    "#Access the element on the first row, second column:\n",
    "\n",
    "arr = np.array([[1,2,3,4,5], [6,7,8,9,10]])\n",
    "\n",
    "print('2nd element on 1st row: ', arr[0, 1])"
   ]
  },
  {
   "cell_type": "code",
   "execution_count": 26,
   "id": "13903243-ddfc-4670-9cb3-e17e63374200",
   "metadata": {},
   "outputs": [
    {
     "name": "stdout",
     "output_type": "stream",
     "text": [
      "5th element on 2nd row:  10\n"
     ]
    }
   ],
   "source": [
    "#Access the element on the 2nd row, 5th column:\n",
    "\n",
    "arr = np.array([[1,2,3,4,5], [6,7,8,9,10]])\n",
    "\n",
    "print('5th element on 2nd row: ', arr[1, 4])"
   ]
  },
  {
   "cell_type": "markdown",
   "id": "e593a8cb-5aa6-49bc-9563-58c39e0a6e17",
   "metadata": {},
   "source": [
    "#### Access 3-D Arrays\n",
    "\n",
    "- To access elements from 3-D arrays we can use comma separated integers representing the dimensions and the index of the element."
   ]
  },
  {
   "cell_type": "code",
   "execution_count": 27,
   "id": "890fed04-0dcf-4d26-bdee-49e346b524e3",
   "metadata": {},
   "outputs": [
    {
     "name": "stdout",
     "output_type": "stream",
     "text": [
      "6\n"
     ]
    }
   ],
   "source": [
    "#Access the third element of the second array of the first array:\n",
    "\n",
    "arr = np.array([[[1, 2, 3], [4, 5, 6]], [[7, 8, 9], [10, 11, 12]]])\n",
    "\n",
    "print(arr[0, 1, 2])"
   ]
  },
  {
   "cell_type": "markdown",
   "id": "5626adb9-c6ec-4266-911f-ea72b268e6a5",
   "metadata": {},
   "source": [
    "#### Example Explained\n",
    "\n",
    "arr[0, 1, 2] prints the value 6.\n",
    "\n",
    "And this is why:\n",
    "\n",
    "The first number represents the first dimension, which contains two arrays:\n",
    "\n",
    "[[1, 2, 3], [4, 5, 6]]\n",
    "\n",
    "**and:**\n",
    "\n",
    "[[7, 8, 9], [10, 11, 12]]\n",
    "\n",
    "Since we selected 0, we are left with the first array:\n",
    "[[1, 2, 3], [4, 5, 6]]\n",
    "\n",
    "The second number represents the second dimension, which also contains two arrays:\n",
    "\n",
    "[1, 2, 3]\n",
    "\n",
    "**and:**\n",
    "\n",
    "[4, 5, 6]\n",
    "\n",
    "Since we selected 1, we are left with the second array:\n",
    "[4, 5, 6]\n",
    "\n",
    "The third number represents the third dimension, which contains three values:\n",
    "4\n",
    "5\n",
    "6\n",
    "\n",
    "Since we selected 2, we end up with the third value:\n",
    "6"
   ]
  },
  {
   "cell_type": "markdown",
   "id": "9fc9618c-e8d6-4462-b298-17eb581924f0",
   "metadata": {},
   "source": [
    "#### Negative Indexing\n",
    "\n",
    "Use negative indexing to access an array from the end."
   ]
  },
  {
   "cell_type": "code",
   "execution_count": 28,
   "id": "c23ce48d-c667-4945-b7d2-b1915b5b66cf",
   "metadata": {},
   "outputs": [
    {
     "name": "stdout",
     "output_type": "stream",
     "text": [
      "Last element from 2nd dim:  10\n"
     ]
    }
   ],
   "source": [
    "#Print the last element from the 2nd dim:\n",
    "\n",
    "arr = np.array([[1,2,3,4,5], [6,7,8,9,10]])\n",
    "\n",
    "print('Last element from 2nd dim: ', arr[1, -1])"
   ]
  },
  {
   "cell_type": "code",
   "execution_count": 30,
   "id": "10a0ab7c-0157-46a7-8d8b-601c34fa11d5",
   "metadata": {},
   "outputs": [
    {
     "name": "stdout",
     "output_type": "stream",
     "text": [
      "7\n"
     ]
    }
   ],
   "source": [
    "arr = np.array([[[1, 2], [3, 4]], [[5, 6], [7, 8]]])\n",
    "\n",
    "print(arr[1, 1, 0])"
   ]
  },
  {
   "cell_type": "markdown",
   "id": "88fab525-7e14-450e-a7eb-ee1f77fc11de",
   "metadata": {
    "jp-MarkdownHeadingCollapsed": true
   },
   "source": [
    "# NumPy Array Slicing"
   ]
  },
  {
   "cell_type": "markdown",
   "id": "6c6c169e-730d-49af-bc47-85e27de12508",
   "metadata": {},
   "source": [
    "#### Slicing arrays\n",
    "\n",
    "- Slicing in python means taking elements from one given index to another given index.\n",
    "\n",
    "- We pass slice instead of index like this: [start:end].\n",
    "\n",
    "- We can also define the step, like this: [start:end:step].\n",
    "\n",
    "- If we don't pass start its considered 0\n",
    "\n",
    "- If we don't pass end its considered length of array in that dimension\n",
    "\n",
    "- If we don't pass step its considered 1"
   ]
  },
  {
   "cell_type": "code",
   "execution_count": 31,
   "id": "f1b374fe-ab8a-451a-992a-318e0646b574",
   "metadata": {},
   "outputs": [
    {
     "name": "stdout",
     "output_type": "stream",
     "text": [
      "[2 3 4 5]\n"
     ]
    }
   ],
   "source": [
    "#Slice elements from index 1 to index 5 from the following array:\n",
    "\n",
    "arr = np.array([1, 2, 3, 4, 5, 6, 7])\n",
    "\n",
    "print(arr[1:5])\n"
   ]
  },
  {
   "cell_type": "markdown",
   "id": "5a822eed-1ecb-4abc-9759-0dc066134d07",
   "metadata": {},
   "source": [
    "> Note: The result includes the start index, but excludes the end index."
   ]
  },
  {
   "cell_type": "code",
   "execution_count": 32,
   "id": "dbeb1c9b-8164-4550-a480-8fed7bad6114",
   "metadata": {},
   "outputs": [
    {
     "name": "stdout",
     "output_type": "stream",
     "text": [
      "[5 6 7]\n"
     ]
    }
   ],
   "source": [
    "#Slice elements from index 4 to the end of the array:\n",
    "\n",
    "arr = np.array([1, 2, 3, 4, 5, 6, 7])\n",
    "\n",
    "print(arr[4:])"
   ]
  },
  {
   "cell_type": "code",
   "execution_count": 33,
   "id": "9d144786-163c-43e7-8766-01322de4e8f0",
   "metadata": {},
   "outputs": [
    {
     "name": "stdout",
     "output_type": "stream",
     "text": [
      "[1 2 3 4]\n"
     ]
    }
   ],
   "source": [
    "#Slice elements from the beginning to index 4 (not included):\n",
    "\n",
    "arr = np.array([1, 2, 3, 4, 5, 6, 7])\n",
    "\n",
    "print(arr[:4])"
   ]
  },
  {
   "cell_type": "markdown",
   "id": "75ad1557-7bcc-4a4c-8f8e-b52af8d3447d",
   "metadata": {},
   "source": [
    "#### Negative Slicing\n",
    "\n",
    "- Use the minus operator to refer to an index from the end:"
   ]
  },
  {
   "cell_type": "code",
   "execution_count": 34,
   "id": "eda8a014-b905-4ffd-9dee-f3ca2afe7c62",
   "metadata": {},
   "outputs": [
    {
     "name": "stdout",
     "output_type": "stream",
     "text": [
      "[5 6]\n"
     ]
    }
   ],
   "source": [
    "#Slice from the index 3 from the end to index 1 from the end:\n",
    "\n",
    "arr = np.array([1, 2, 3, 4, 5, 6, 7])\n",
    "\n",
    "print(arr[-3:-1])"
   ]
  },
  {
   "cell_type": "markdown",
   "id": "e399216f-e714-4d7f-9f04-4985af695484",
   "metadata": {},
   "source": [
    "#### STEP\n",
    "\n",
    "- Use the step value to determine the step of the slicing:"
   ]
  },
  {
   "cell_type": "code",
   "execution_count": 36,
   "id": "7f2357cb-002f-4600-b940-2ec2c101947e",
   "metadata": {},
   "outputs": [
    {
     "name": "stdout",
     "output_type": "stream",
     "text": [
      "[2 4]\n"
     ]
    }
   ],
   "source": [
    "#Return every other element from index 1 to index 5:\n",
    "\n",
    "arr = np.array([1, 2, 3, 4, 5, 6, 7])\n",
    "\n",
    "print(arr[1:5:2])"
   ]
  },
  {
   "cell_type": "code",
   "execution_count": 37,
   "id": "a54f2413-293d-4609-917a-8c111c362af9",
   "metadata": {},
   "outputs": [
    {
     "name": "stdout",
     "output_type": "stream",
     "text": [
      "[1 3 5 7]\n"
     ]
    }
   ],
   "source": [
    "#Return every other element from the entire array:\n",
    "\n",
    "arr = np.array([1, 2, 3, 4, 5, 6, 7])\n",
    "\n",
    "print(arr[::2])\n"
   ]
  },
  {
   "cell_type": "markdown",
   "id": "87f14812-915a-4a55-bdc4-9cb2c7531cee",
   "metadata": {},
   "source": [
    "#### Slicing 2-D Arrays"
   ]
  },
  {
   "cell_type": "code",
   "execution_count": 38,
   "id": "37fd1cee-88e8-47b6-ab44-9583df4f9c0f",
   "metadata": {},
   "outputs": [
    {
     "name": "stdout",
     "output_type": "stream",
     "text": [
      "[7 8 9]\n"
     ]
    }
   ],
   "source": [
    "#From the second element, slice elements from index 1 to index 4 (not included):\n",
    "\n",
    "arr = np.array([[1, 2, 3, 4, 5], [6, 7, 8, 9, 10]])\n",
    "\n",
    "print(arr[1, 1:4])"
   ]
  },
  {
   "cell_type": "markdown",
   "id": "98a1d9a3-476c-4a96-ba75-97258040d226",
   "metadata": {},
   "source": [
    "> Note: Remember that second element has index 1."
   ]
  },
  {
   "cell_type": "code",
   "execution_count": 39,
   "id": "e085ef12-a81b-4d17-9011-7b7fff84f4f6",
   "metadata": {},
   "outputs": [
    {
     "name": "stdout",
     "output_type": "stream",
     "text": [
      "[3 8]\n"
     ]
    }
   ],
   "source": [
    "#From both elements, return index 2:\n",
    "\n",
    "arr = np.array([[1, 2, 3, 4, 5], [6, 7, 8, 9, 10]])\n",
    "\n",
    "print(arr[0:2, 2])"
   ]
  },
  {
   "cell_type": "code",
   "execution_count": 40,
   "id": "8a8673c6-b6e9-48b1-b224-8104b5565e33",
   "metadata": {},
   "outputs": [
    {
     "name": "stdout",
     "output_type": "stream",
     "text": [
      "[[2 3 4]\n",
      " [7 8 9]]\n"
     ]
    }
   ],
   "source": [
    "#From both elements, slice index 1 to index 4 (not included), this will return a 2-D array:\n",
    "\n",
    "arr = np.array([[1, 2, 3, 4, 5], [6, 7, 8, 9, 10]])\n",
    "\n",
    "print(arr[0:2, 1:4])"
   ]
  },
  {
   "cell_type": "code",
   "execution_count": 41,
   "id": "f86d53f6-81cc-4460-94af-e8dcbb7dbd25",
   "metadata": {},
   "outputs": [
    {
     "name": "stdout",
     "output_type": "stream",
     "text": [
      "[1 2]\n"
     ]
    }
   ],
   "source": [
    "arr = np.array([1, 2, 3, 4, 5, 6, 7])\n",
    "\n",
    "print(arr[:2])"
   ]
  },
  {
   "cell_type": "markdown",
   "id": "f247edd4-baac-41cc-bf94-ba17b6d20cbd",
   "metadata": {
    "jp-MarkdownHeadingCollapsed": true
   },
   "source": [
    "# NumPy Data Types\n"
   ]
  },
  {
   "cell_type": "markdown",
   "id": "d0a2510f-5e42-4f2a-909f-fa230920f6ed",
   "metadata": {},
   "source": [
    "#### Data Types in Python\n",
    "\n",
    "- By default Python have these data types:\n",
    "\n",
    "1. strings - used to represent text data, the text is given under quote marks. e.g. \"ABCD\"\n",
    "2. integer - used to represent integer numbers. e.g. -1, -2, -3\n",
    "3. float - used to represent real numbers. e.g. 1.2, 42.42\n",
    "4. boolean - used to represent True or False.\n",
    "5. complex - used to represent complex numbers. e.g. 1.0 + 2.0j, 1.5 + 2.5j"
   ]
  },
  {
   "cell_type": "markdown",
   "id": "75a6e9b3-7358-4860-9fba-a4bd4defb179",
   "metadata": {},
   "source": [
    "#### Data Types in NumPy\n",
    "\n",
    "- NumPy has some extra data types, and refer to data types with one character, like i for integers, u for unsigned integers etc.\n",
    "\n",
    "- Below is a list of all data types in NumPy and the characters used to represent them.\n",
    "\n",
    "> i - integer\n",
    "\n",
    "> b - boolean\n",
    "\n",
    "> u - unsigned integer\n",
    "\n",
    "> f - float\n",
    "\n",
    "> c - complex float\n",
    "\n",
    "> m - timedelta\n",
    "\n",
    "> M - datetime\n",
    "\n",
    "> O - object\n",
    "\n",
    "> S - string\n",
    "\n",
    "> U - unicode string\n",
    "\n",
    "> V - fixed chunk of memory for other type ( void )"
   ]
  },
  {
   "cell_type": "markdown",
   "id": "fa27fef9-5240-4242-8a5b-84c9cce4f00d",
   "metadata": {},
   "source": [
    "#### Checking the Data Type of an Array\n",
    "\n",
    "- The NumPy array object has a property called dtype that returns the data type of the array:"
   ]
  },
  {
   "cell_type": "code",
   "execution_count": 42,
   "id": "d21437ec-1b27-4522-8b23-a0a4772861cd",
   "metadata": {},
   "outputs": [
    {
     "name": "stdout",
     "output_type": "stream",
     "text": [
      "int64\n"
     ]
    }
   ],
   "source": [
    "#Get the data type of an array object:\n",
    "\n",
    "arr = np.array([1, 2, 3, 4])\n",
    "\n",
    "print(arr.dtype)"
   ]
  },
  {
   "cell_type": "code",
   "execution_count": 43,
   "id": "95b47f8b-509c-45b2-baf5-3ba94b4ff08c",
   "metadata": {},
   "outputs": [
    {
     "name": "stdout",
     "output_type": "stream",
     "text": [
      "<U6\n"
     ]
    }
   ],
   "source": [
    "#Get the data type of an array containing strings:\n",
    "\n",
    "arr = np.array(['apple', 'banana', 'cherry'])\n",
    "\n",
    "print(arr.dtype)"
   ]
  },
  {
   "cell_type": "markdown",
   "id": "f0bb272d-94fe-45eb-b73b-aa93e8fc7e50",
   "metadata": {},
   "source": [
    "#### Creating Arrays With a Defined Data Type\n",
    "\n",
    "- We use the array() function to create arrays, this function can take an optional argument: dtype that allows us to define the expected data type of the array elements:"
   ]
  },
  {
   "cell_type": "code",
   "execution_count": 46,
   "id": "1420038f-cb1f-4097-bb54-73d246f23425",
   "metadata": {},
   "outputs": [
    {
     "name": "stdout",
     "output_type": "stream",
     "text": [
      "[b'1' b'2' b'3' b'4']\n",
      "|S1\n"
     ]
    }
   ],
   "source": [
    "#Create an array with data type string:\n",
    "\n",
    "arr = np.array([1, 2, 3, 4], dtype='S')\n",
    "\n",
    "print(arr)\n",
    "print(arr.dtype)\n"
   ]
  },
  {
   "cell_type": "markdown",
   "id": "f2046da7-e426-4dd6-aa9a-af173144155e",
   "metadata": {},
   "source": [
    "> For i, u, f, S and U we can define size as well."
   ]
  },
  {
   "cell_type": "code",
   "execution_count": 47,
   "id": "7577a134-7fa4-4f1a-a5b9-b847822c440d",
   "metadata": {},
   "outputs": [
    {
     "name": "stdout",
     "output_type": "stream",
     "text": [
      "[1 2 3 4]\n",
      "int32\n"
     ]
    }
   ],
   "source": [
    "#Create an array with data type 4 bytes integer:\n",
    "\n",
    "arr = np.array([1, 2, 3, 4], dtype='i4')\n",
    "\n",
    "print(arr)\n",
    "print(arr.dtype)"
   ]
  },
  {
   "cell_type": "markdown",
   "id": "a599294e-4ed1-42a4-bcbd-37d0595da148",
   "metadata": {},
   "source": [
    "#### What if a Value Can Not Be Converted?\n",
    "\n",
    "- If a type is given in which elements can't be casted then NumPy will raise a ValueError."
   ]
  },
  {
   "cell_type": "markdown",
   "id": "bd55f67f-f461-4632-b1b6-b341073c2aff",
   "metadata": {},
   "source": [
    "> ValueError: In Python ValueError is raised when the type of passed argument to a function is unexpected/incorrect."
   ]
  },
  {
   "cell_type": "code",
   "execution_count": 49,
   "id": "6ec49182-8f7f-4781-a9ab-c0f339ffbc0a",
   "metadata": {
    "scrolled": true
   },
   "outputs": [
    {
     "ename": "ValueError",
     "evalue": "invalid literal for int() with base 10: 'a'",
     "output_type": "error",
     "traceback": [
      "\u001b[1;31m---------------------------------------------------------------------------\u001b[0m",
      "\u001b[1;31mValueError\u001b[0m                                Traceback (most recent call last)",
      "Cell \u001b[1;32mIn[49], line 3\u001b[0m\n\u001b[0;32m      1\u001b[0m \u001b[38;5;66;03m#A non integer string like 'a' can not be converted to integer (will raise an error):\u001b[39;00m\n\u001b[1;32m----> 3\u001b[0m arr \u001b[38;5;241m=\u001b[39m \u001b[43mnp\u001b[49m\u001b[38;5;241;43m.\u001b[39;49m\u001b[43marray\u001b[49m\u001b[43m(\u001b[49m\u001b[43m[\u001b[49m\u001b[38;5;124;43m'\u001b[39;49m\u001b[38;5;124;43ma\u001b[39;49m\u001b[38;5;124;43m'\u001b[39;49m\u001b[43m,\u001b[49m\u001b[43m \u001b[49m\u001b[38;5;124;43m'\u001b[39;49m\u001b[38;5;124;43m2\u001b[39;49m\u001b[38;5;124;43m'\u001b[39;49m\u001b[43m,\u001b[49m\u001b[43m \u001b[49m\u001b[38;5;124;43m'\u001b[39;49m\u001b[38;5;124;43m3\u001b[39;49m\u001b[38;5;124;43m'\u001b[39;49m\u001b[43m]\u001b[49m\u001b[43m,\u001b[49m\u001b[43m \u001b[49m\u001b[43mdtype\u001b[49m\u001b[38;5;241;43m=\u001b[39;49m\u001b[38;5;124;43m'\u001b[39;49m\u001b[38;5;124;43mi\u001b[39;49m\u001b[38;5;124;43m'\u001b[39;49m\u001b[43m)\u001b[49m\n",
      "\u001b[1;31mValueError\u001b[0m: invalid literal for int() with base 10: 'a'"
     ]
    }
   ],
   "source": [
    "#A non integer string like 'a' can not be converted to integer (will raise an error):\n",
    "\n",
    "arr = np.array(['a', '2', '3'], dtype='i')"
   ]
  },
  {
   "cell_type": "markdown",
   "id": "d7303085-6a9c-4c9b-a67c-83a7a5ec46bd",
   "metadata": {},
   "source": [
    "#### Converting Data Type on Existing Arrays\n",
    "\n",
    "- The best way to change the data type of an existing array, is to make a copy of the array with the astype() method.\n",
    "\n",
    "- The astype() function creates a copy of the array, and allows you to specify the data type as a parameter.\n",
    "\n",
    "- The data type can be specified using a string, like 'f' for float, 'i' for integer etc. or you can use the data type directly like float for float and int for integer."
   ]
  },
  {
   "cell_type": "code",
   "execution_count": 50,
   "id": "150e3b78-91a6-44e5-84ec-5cbf201a53e1",
   "metadata": {},
   "outputs": [
    {
     "name": "stdout",
     "output_type": "stream",
     "text": [
      "[1 2 3]\n",
      "int32\n"
     ]
    }
   ],
   "source": [
    "#Change data type from float to integer by using 'i' as parameter value:\n",
    "\n",
    "arr = np.array([1.1, 2.1, 3.1])\n",
    "\n",
    "newarr = arr.astype('i')\n",
    "\n",
    "print(newarr)\n",
    "print(newarr.dtype)"
   ]
  },
  {
   "cell_type": "code",
   "execution_count": 51,
   "id": "fce5e67d-4fde-448e-867a-6171f2553300",
   "metadata": {},
   "outputs": [
    {
     "name": "stdout",
     "output_type": "stream",
     "text": [
      "[1 2 3]\n",
      "int64\n"
     ]
    }
   ],
   "source": [
    "#Change data type from float to integer by using int as parameter value:\n",
    "\n",
    "arr = np.array([1.1, 2.1, 3.1])\n",
    "\n",
    "newarr = arr.astype(int)\n",
    "\n",
    "print(newarr)\n",
    "print(newarr.dtype)"
   ]
  },
  {
   "cell_type": "code",
   "execution_count": 52,
   "id": "5b571d46-e974-4da8-93cb-b62f9f9dcfea",
   "metadata": {},
   "outputs": [
    {
     "name": "stdout",
     "output_type": "stream",
     "text": [
      "[ True False  True]\n",
      "bool\n"
     ]
    }
   ],
   "source": [
    "#Change data type from integer to boolean:\n",
    "\n",
    "arr = np.array([1, 0, 3])\n",
    "\n",
    "newarr = arr.astype(bool)\n",
    "\n",
    "print(newarr)\n",
    "print(newarr.dtype)"
   ]
  },
  {
   "cell_type": "code",
   "execution_count": 53,
   "id": "f96a5da8-373c-405e-b261-4a412a7217e8",
   "metadata": {},
   "outputs": [
    {
     "name": "stdout",
     "output_type": "stream",
     "text": [
      "[ True False  True]\n"
     ]
    }
   ],
   "source": [
    "arr = np.array([-1, 0, 1])\n",
    "newarr = arr.astype(bool)\n",
    "print(newarr)"
   ]
  },
  {
   "cell_type": "markdown",
   "id": "f0d3254b-429d-4bb3-bcde-e6bea3c430db",
   "metadata": {
    "jp-MarkdownHeadingCollapsed": true
   },
   "source": [
    "# NumPy Array Copy vs View\n"
   ]
  },
  {
   "cell_type": "markdown",
   "id": "030e9f03-c144-4255-8fb8-5c8853dd86e5",
   "metadata": {},
   "source": [
    "#### The Difference Between Copy and View\n",
    "\n",
    "- The main difference between a copy and a view of an array is that the copy is a new array, and the view is just a view of the original array.\n",
    "\n",
    "- The copy owns the data and any changes made to the copy will not affect original array, and any changes made to the original array will not affect the copy.\n",
    "\n",
    "- The view does not own the data and any changes made to the view will affect the original array, and any changes made to the original array will affect the view.\n"
   ]
  },
  {
   "cell_type": "markdown",
   "id": "012d4d06-57f2-414b-9ca9-2a6762da05fa",
   "metadata": {},
   "source": [
    "#### COPY:\n"
   ]
  },
  {
   "cell_type": "code",
   "execution_count": 56,
   "id": "26a58508-a6ac-4333-a679-2991150090fa",
   "metadata": {},
   "outputs": [
    {
     "name": "stdout",
     "output_type": "stream",
     "text": [
      "[42  2  3  4  5]\n",
      "[1 2 3 4 5]\n"
     ]
    }
   ],
   "source": [
    "#Make a copy, change the original array, and display both arrays:\n",
    "\n",
    "arr = np.array([1, 2, 3, 4, 5])\n",
    "x = arr.copy()\n",
    "arr[0] = 42\n",
    "\n",
    "print(arr)\n",
    "print(x)"
   ]
  },
  {
   "cell_type": "markdown",
   "id": "1813218b-8541-48d9-8b60-182f5183bdc6",
   "metadata": {},
   "source": [
    "> The copy SHOULD NOT be affected by the changes made to the original array.\n",
    "\n"
   ]
  },
  {
   "cell_type": "markdown",
   "id": "9f253245-6165-4b7d-b8e7-f380db6bfe94",
   "metadata": {},
   "source": [
    "#### VIEW:"
   ]
  },
  {
   "cell_type": "code",
   "execution_count": 57,
   "id": "378a7937-9717-4145-8f58-ba35f9125800",
   "metadata": {},
   "outputs": [
    {
     "name": "stdout",
     "output_type": "stream",
     "text": [
      "[42  2  3  4  5]\n",
      "[42  2  3  4  5]\n"
     ]
    }
   ],
   "source": [
    "#Make a view, change the original array, and display both arrays:\n",
    "\n",
    "arr = np.array([1, 2, 3, 4, 5])\n",
    "x = arr.view()\n",
    "arr[0] = 42\n",
    "\n",
    "print(arr)\n",
    "print(x)"
   ]
  },
  {
   "cell_type": "markdown",
   "id": "039d27cb-61ea-4afa-996d-ee6bd8e2e889",
   "metadata": {},
   "source": [
    "> The view SHOULD be affected by the changes made to the original array."
   ]
  },
  {
   "cell_type": "markdown",
   "id": "3dcab563-a510-4ea0-98d4-2450ae227cc9",
   "metadata": {},
   "source": [
    "#### Make Changes in the VIEW:"
   ]
  },
  {
   "cell_type": "code",
   "execution_count": 58,
   "id": "5e3b5130-ef04-4e6d-ad93-9e01bc79fc47",
   "metadata": {},
   "outputs": [
    {
     "name": "stdout",
     "output_type": "stream",
     "text": [
      "[31  2  3  4  5]\n",
      "[31  2  3  4  5]\n"
     ]
    }
   ],
   "source": [
    "#Make a view, change the view, and display both arrays:\n",
    "\n",
    "arr = np.array([1, 2, 3, 4, 5])\n",
    "x = arr.view()\n",
    "x[0] = 31\n",
    "\n",
    "print(arr)\n",
    "print(x)"
   ]
  },
  {
   "cell_type": "markdown",
   "id": "85b07537-5fe5-4968-abf6-63f0cd981b91",
   "metadata": {},
   "source": [
    "> The original array SHOULD be affected by the changes made to the view."
   ]
  },
  {
   "cell_type": "markdown",
   "id": "b0a3af85-3f05-4ca9-b3a5-58fda9afaf01",
   "metadata": {},
   "source": [
    "#### Check if Array Owns its Data\n",
    "\n",
    "- As mentioned above, copies owns the data, and views does not own the data, but how can we check this?\n",
    "\n",
    "- Every NumPy array has the attribute base that returns None if the array owns the data.\n",
    "\n",
    "- Otherwise, the base  attribute refers to the original object."
   ]
  },
  {
   "cell_type": "code",
   "execution_count": 59,
   "id": "82affcc1-7d7a-4fb3-a087-c179e5cc292e",
   "metadata": {},
   "outputs": [
    {
     "name": "stdout",
     "output_type": "stream",
     "text": [
      "None\n",
      "[1 2 3 4 5]\n"
     ]
    }
   ],
   "source": [
    "#Print the value of the base attribute to check if an array owns it's data or not:\n",
    "\n",
    "arr = np.array([1, 2, 3, 4, 5])\n",
    "\n",
    "x = arr.copy()\n",
    "y = arr.view()\n",
    "\n",
    "print(x.base)\n",
    "print(y.base)"
   ]
  },
  {
   "cell_type": "markdown",
   "id": "742393a8-3ce3-41e6-9186-27badfbcde17",
   "metadata": {},
   "source": [
    "- The copy returns None.\n",
    "- The view returns the original array."
   ]
  },
  {
   "cell_type": "code",
   "execution_count": 60,
   "id": "5075552a-e151-4a8d-a55e-443ab9d74ff7",
   "metadata": {},
   "outputs": [
    {
     "name": "stdout",
     "output_type": "stream",
     "text": [
      "[1 2 3]\n"
     ]
    }
   ],
   "source": [
    "original_array = np.array([1, 2, 3])\n",
    "x = original_array.copy()\n",
    "x[0] = 5\n",
    "print(original_array)"
   ]
  },
  {
   "cell_type": "markdown",
   "id": "dce37334-eb5e-4a09-b995-259eb3e36162",
   "metadata": {
    "jp-MarkdownHeadingCollapsed": true
   },
   "source": [
    "# NumPy Array Shape"
   ]
  },
  {
   "cell_type": "markdown",
   "id": "36e12adf-1e7c-4d4c-9c90-406a37cde344",
   "metadata": {},
   "source": [
    "#### Shape of an Array\n",
    "\n",
    "- The shape of an array is the number of elements in each dimension."
   ]
  },
  {
   "cell_type": "markdown",
   "id": "de86e43d-d652-496e-8485-4dbb400f6511",
   "metadata": {},
   "source": [
    "#### Get the Shape of an Array\n",
    "\n",
    "- NumPy arrays have an attribute called shape that returns a tuple with each index having the number of corresponding elements."
   ]
  },
  {
   "cell_type": "code",
   "execution_count": 62,
   "id": "880a9cc1-5c75-4676-8616-aafd03e8f83d",
   "metadata": {},
   "outputs": [
    {
     "name": "stdout",
     "output_type": "stream",
     "text": [
      "(2, 4)\n"
     ]
    }
   ],
   "source": [
    "#Print the shape of a 2-D array:\n",
    "\n",
    "arr = np.array([[1, 2, 3, 4], [5, 6, 7, 8]])\n",
    "\n",
    "print(arr.shape)"
   ]
  },
  {
   "cell_type": "markdown",
   "id": "813912db-a234-4e43-9925-aed0c88e60db",
   "metadata": {},
   "source": [
    "> The example above returns (2, 4), which means that the array has 2 dimensions, where the first dimension has 2 elements and the second has 4."
   ]
  },
  {
   "cell_type": "code",
   "execution_count": 63,
   "id": "2796e490-2e4a-4e50-8909-819f3aec76a1",
   "metadata": {},
   "outputs": [
    {
     "name": "stdout",
     "output_type": "stream",
     "text": [
      "[[[[[1 2 3 4]]]]]\n",
      "shape of array : (1, 1, 1, 1, 4)\n"
     ]
    }
   ],
   "source": [
    "#Create an array with 5 dimensions using ndmin using a vector with values 1,2,3,4 and verify that last dimension has value 4:\n",
    "\n",
    "arr = np.array([1, 2, 3, 4], ndmin=5)\n",
    "\n",
    "print(arr)\n",
    "print('shape of array :', arr.shape)"
   ]
  },
  {
   "cell_type": "markdown",
   "id": "16ae3f4b-ee5d-4a3f-9c54-8190ca4e4dfb",
   "metadata": {},
   "source": [
    "#### What does the shape tuple represent?\n",
    "\n",
    "- Integers at every index tells about the number of elements the corresponding dimension has.\n",
    "\n",
    "- In the example above at index-4 we have value 4, so we can say that 5th ( 4 + 1 th) dimension has 4 elements."
   ]
  },
  {
   "cell_type": "code",
   "execution_count": 64,
   "id": "c197a7b4-64bb-4d25-8d2c-aa90554039ce",
   "metadata": {},
   "outputs": [
    {
     "name": "stdout",
     "output_type": "stream",
     "text": [
      "(2, 3)\n"
     ]
    }
   ],
   "source": [
    "arr = np.array([[1, 2, 3], [4, 5, 6]])\n",
    "print(arr.shape)"
   ]
  },
  {
   "cell_type": "markdown",
   "id": "a46ed0b3-55f0-42a0-b2fe-bfd2d36d83e4",
   "metadata": {
    "jp-MarkdownHeadingCollapsed": true
   },
   "source": [
    "# NumPy Array Reshaping\n"
   ]
  },
  {
   "cell_type": "markdown",
   "id": "d7841d52-5be4-4e13-b8ce-7a120ed0f03b",
   "metadata": {},
   "source": [
    "#### Reshaping arrays\n",
    "\n",
    "- Reshaping means changing the shape of an array.\n",
    "\n",
    "- The shape of an array is the number of elements in each dimension.\n",
    "\n",
    "- By reshaping we can add or remove dimensions or change number of elements in each dimension."
   ]
  },
  {
   "cell_type": "markdown",
   "id": "93ad5a7e-ca41-4c80-a096-498aad29e6ec",
   "metadata": {},
   "source": [
    "#### Reshape From 1-D to 2-D\n",
    "\n",
    "- Convert the following 1-D array with 12 elements into a 2-D array."
   ]
  },
  {
   "cell_type": "code",
   "execution_count": 66,
   "id": "164634ba-171e-4b6c-8f63-82b7d64ec6d6",
   "metadata": {},
   "outputs": [
    {
     "name": "stdout",
     "output_type": "stream",
     "text": [
      "[[ 1  2  3]\n",
      " [ 4  5  6]\n",
      " [ 7  8  9]\n",
      " [10 11 12]]\n"
     ]
    }
   ],
   "source": [
    "#The outermost dimension will have 4 arrays, each with 3 elements:\n",
    "\n",
    "arr = np.array([1, 2, 3, 4, 5, 6, 7, 8, 9, 10, 11, 12])\n",
    "\n",
    "newarr = arr.reshape(4, 3)\n",
    "\n",
    "print(newarr)"
   ]
  },
  {
   "cell_type": "markdown",
   "id": "4f9c88e7-decd-41df-9282-b6cd861e67dd",
   "metadata": {},
   "source": [
    "#### Reshape From 1-D to 3-D\n",
    "\n",
    "- Convert the following 1-D array with 12 elements into a 3-D array.\n",
    "\n"
   ]
  },
  {
   "cell_type": "code",
   "execution_count": 67,
   "id": "bc46791b-3997-4e17-a328-9abe156adf5f",
   "metadata": {},
   "outputs": [
    {
     "name": "stdout",
     "output_type": "stream",
     "text": [
      "[[[ 1  2]\n",
      "  [ 3  4]\n",
      "  [ 5  6]]\n",
      "\n",
      " [[ 7  8]\n",
      "  [ 9 10]\n",
      "  [11 12]]]\n"
     ]
    }
   ],
   "source": [
    "#The outermost dimension will have 2 arrays that contains 3 arrays, each with 2 elements:\n",
    "\n",
    "arr = np.array([1, 2, 3, 4, 5, 6, 7, 8, 9, 10, 11, 12])\n",
    "\n",
    "newarr = arr.reshape(2, 3, 2)\n",
    "\n",
    "print(newarr)"
   ]
  },
  {
   "cell_type": "markdown",
   "id": "b2381b7c-6ef8-4e4d-87bb-3db1e9027ee7",
   "metadata": {},
   "source": [
    "#### Can We Reshape Into any Shape?\n",
    "\n",
    "- Yes, as long as the elements required for reshaping are equal in both shapes.\n",
    "\n",
    "- We can reshape an 8 elements 1D array into 4 elements in 2 rows 2D array but we cannot reshape it into a 3 elements 3 rows 2D array as that would require 3x3 = 9 elements."
   ]
  },
  {
   "cell_type": "code",
   "execution_count": 68,
   "id": "f3775173-2b21-4135-86b8-bc4781617ddb",
   "metadata": {},
   "outputs": [
    {
     "ename": "ValueError",
     "evalue": "cannot reshape array of size 8 into shape (3,3)",
     "output_type": "error",
     "traceback": [
      "\u001b[1;31m---------------------------------------------------------------------------\u001b[0m",
      "\u001b[1;31mValueError\u001b[0m                                Traceback (most recent call last)",
      "Cell \u001b[1;32mIn[68], line 5\u001b[0m\n\u001b[0;32m      1\u001b[0m \u001b[38;5;66;03m#Try converting 1D array with 8 elements to a 2D array with 3 elements in each dimension (will raise an error):\u001b[39;00m\n\u001b[0;32m      3\u001b[0m arr \u001b[38;5;241m=\u001b[39m np\u001b[38;5;241m.\u001b[39marray([\u001b[38;5;241m1\u001b[39m, \u001b[38;5;241m2\u001b[39m, \u001b[38;5;241m3\u001b[39m, \u001b[38;5;241m4\u001b[39m, \u001b[38;5;241m5\u001b[39m, \u001b[38;5;241m6\u001b[39m, \u001b[38;5;241m7\u001b[39m, \u001b[38;5;241m8\u001b[39m])\n\u001b[1;32m----> 5\u001b[0m newarr \u001b[38;5;241m=\u001b[39m \u001b[43marr\u001b[49m\u001b[38;5;241;43m.\u001b[39;49m\u001b[43mreshape\u001b[49m\u001b[43m(\u001b[49m\u001b[38;5;241;43m3\u001b[39;49m\u001b[43m,\u001b[49m\u001b[43m \u001b[49m\u001b[38;5;241;43m3\u001b[39;49m\u001b[43m)\u001b[49m\n\u001b[0;32m      7\u001b[0m \u001b[38;5;28mprint\u001b[39m(newarr)\n",
      "\u001b[1;31mValueError\u001b[0m: cannot reshape array of size 8 into shape (3,3)"
     ]
    }
   ],
   "source": [
    "#Try converting 1D array with 8 elements to a 2D array with 3 elements in each dimension (will raise an error):\n",
    "\n",
    "arr = np.array([1, 2, 3, 4, 5, 6, 7, 8])\n",
    "\n",
    "newarr = arr.reshape(3, 3)\n",
    "\n",
    "print(newarr)\n"
   ]
  },
  {
   "cell_type": "markdown",
   "id": "be03d31a-ca7a-41fb-a6ee-b861715006c9",
   "metadata": {},
   "source": [
    "#### Returns Copy or View?\n"
   ]
  },
  {
   "cell_type": "code",
   "execution_count": 70,
   "id": "f59fe146-afa8-4145-a6e2-c7b96f41dba4",
   "metadata": {},
   "outputs": [
    {
     "name": "stdout",
     "output_type": "stream",
     "text": [
      "[1 2 3 4 5 6 7 8]\n"
     ]
    }
   ],
   "source": [
    "#Check if the returned array is a copy or a view:\n",
    "\n",
    "arr = np.array([1, 2, 3, 4, 5, 6, 7, 8])\n",
    "\n",
    "print(arr.reshape(2, 4).base)"
   ]
  },
  {
   "cell_type": "markdown",
   "id": "32c9c405-d434-43aa-89ac-fb405c9a0faa",
   "metadata": {},
   "source": [
    "> The example above returns the original array, so it is a view."
   ]
  },
  {
   "cell_type": "markdown",
   "id": "4eec0626-e72a-4ce1-b73a-0b644980959b",
   "metadata": {},
   "source": [
    "#### Unknown Dimension\n",
    "\n",
    "- You are allowed to have one \"unknown\" dimension.\n",
    "\n",
    "- Meaning that you do not have to specify an exact number for one of the dimensions in the reshape method.\n",
    "\n",
    "- Pass -1 as the value, and NumPy will calculate this number for you."
   ]
  },
  {
   "cell_type": "code",
   "execution_count": 72,
   "id": "3c433ccb-4565-46b8-a9e7-e84bdc8ae1d1",
   "metadata": {},
   "outputs": [
    {
     "name": "stdout",
     "output_type": "stream",
     "text": [
      "[[[1 2]\n",
      "  [3 4]]\n",
      "\n",
      " [[5 6]\n",
      "  [7 8]]]\n"
     ]
    }
   ],
   "source": [
    "#Convert 1D array with 8 elements to 3D array with 2x2 elements:\n",
    "\n",
    "arr = np.array([1, 2, 3, 4, 5, 6, 7, 8])\n",
    "\n",
    "newarr = arr.reshape(2, 2, -1)\n",
    "\n",
    "print(newarr)"
   ]
  },
  {
   "cell_type": "markdown",
   "id": "49416928-6435-4c82-acfe-881f15c3db77",
   "metadata": {},
   "source": [
    "> Note: We can not pass -1 to more than one dimension.\n",
    "\n"
   ]
  },
  {
   "cell_type": "markdown",
   "id": "9cb8c804-6e9c-4934-9c6f-c1e4b78110a4",
   "metadata": {},
   "source": [
    "#### Flattening the arrays\n",
    "\n",
    "- Flattening array means converting a multidimensional array into a 1D array.\n",
    "\n",
    "- We can use reshape(-1) to do this."
   ]
  },
  {
   "cell_type": "code",
   "execution_count": 73,
   "id": "9ce6bea9-a923-4184-8c35-5d767ad4eb94",
   "metadata": {},
   "outputs": [
    {
     "name": "stdout",
     "output_type": "stream",
     "text": [
      "[1 2 3 4 5 6]\n"
     ]
    }
   ],
   "source": [
    "#Convert the array into a 1D array:\n",
    "\n",
    "arr = np.array([[1, 2, 3], [4, 5, 6]])\n",
    "\n",
    "newarr = arr.reshape(-1)\n",
    "\n",
    "print(newarr)"
   ]
  },
  {
   "cell_type": "markdown",
   "id": "ccb74f8b-4db9-43da-b6a7-74865397da37",
   "metadata": {},
   "source": [
    "> Note: There are a lot of functions for changing the shapes of arrays in numpy flatten, ravel and also for rearranging the elements rot90, flip, fliplr, flipud etc. These fall under Intermediate to Advanced section of numpy."
   ]
  },
  {
   "cell_type": "code",
   "execution_count": 74,
   "id": "aaabb250-b8b6-4ad1-8146-cb62a1f72406",
   "metadata": {},
   "outputs": [
    {
     "name": "stdout",
     "output_type": "stream",
     "text": [
      "[1 2 3 4 5 6]\n"
     ]
    }
   ],
   "source": [
    "arr = np.array([[1, 2, 3], [4, 5, 6]])\n",
    "newarr = arr.reshape(6)\n",
    "print(newarr)"
   ]
  },
  {
   "cell_type": "code",
   "execution_count": null,
   "id": "ca8b4ab1-42cf-4538-a560-e53cedf80f76",
   "metadata": {},
   "outputs": [],
   "source": []
  }
 ],
 "metadata": {
  "kernelspec": {
   "display_name": "Python 3 (ipykernel)",
   "language": "python",
   "name": "python3"
  },
  "language_info": {
   "codemirror_mode": {
    "name": "ipython",
    "version": 3
   },
   "file_extension": ".py",
   "mimetype": "text/x-python",
   "name": "python",
   "nbconvert_exporter": "python",
   "pygments_lexer": "ipython3",
   "version": "3.12.6"
  }
 },
 "nbformat": 4,
 "nbformat_minor": 5
}
